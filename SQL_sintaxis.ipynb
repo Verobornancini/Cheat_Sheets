{
 "cells": [
  {
   "cell_type": "markdown",
   "metadata": {},
   "source": [
    "<span style=\"color:red\"> **SQL: Sintáxis General** </span>\n",
    "* Lenguaje para el sistema de gestión de bases de datos\n",
    "* Nos permite realizar consultas sobre la información almacenada en bases de datos"
   ]
  },
  {
   "cell_type": "markdown",
   "metadata": {},
   "source": [
    "<span style=\"color:red\"> **1) SHOW:** </span> Para listar las bases de datos y tablas que tenemos activas."
   ]
  },
  {
   "cell_type": "code",
   "execution_count": null,
   "metadata": {},
   "outputs": [],
   "source": [
    "SHOW DATABASES;\n",
    "SHOW TABLES;"
   ]
  },
  {
   "cell_type": "markdown",
   "metadata": {},
   "source": [
    "<span style=\"color:red\"> **2) CREATE:** </span> Para crear nuevas tablas y bases de datos."
   ]
  },
  {
   "cell_type": "raw",
   "metadata": {},
   "source": [
    "CREATE DATABASE nueva_base_de_datos;"
   ]
  },
  {
   "cell_type": "code",
   "execution_count": null,
   "metadata": {},
   "outputs": [],
   "source": [
    "CREATE TABLE nueva_tabla(\n",
    "# atributo tipo caracteristicas,\n",
    "edad INT NOTNULL,\n",
    "PRIMARY KEY (atributo_elegido), # ejemplo: suele ser el ID\n",
    "FOREGIN KEY (atributo_de_otra_tabla) REFERENCES otra_tabla (atributo));"
   ]
  },
  {
   "cell_type": "markdown",
   "metadata": {},
   "source": [
    "<span style=\"color:red\"> **3) USE:** </span> Para posicionarnos en una base de datos sobre la cual vamos a trabajar."
   ]
  },
  {
   "cell_type": "code",
   "execution_count": null,
   "metadata": {},
   "outputs": [],
   "source": [
    "USE base_de_datos;"
   ]
  },
  {
   "cell_type": "markdown",
   "metadata": {},
   "source": [
    "<span style=\"color:red\"> **4) DESCRIBE:** </span> Para obtener la información de como está conformada una tabla, nos indica las columnas con su respectivo tipo de dato."
   ]
  },
  {
   "cell_type": "code",
   "execution_count": null,
   "metadata": {},
   "outputs": [],
   "source": [
    "DESCRIBE nombre_tabla;"
   ]
  },
  {
   "cell_type": "markdown",
   "metadata": {},
   "source": [
    "<span style=\"color:red\"> **5) INSERT:** </span> Para insertar nuevas filas, se debe especificar que tabla se usará, la columna y el valor a insertar, siempre siquiendo el mismo orden."
   ]
  },
  {
   "cell_type": "code",
   "execution_count": null,
   "metadata": {},
   "outputs": [],
   "source": [
    "INSER INTO nombre_tabla(edad,nombre,sexo)\n",
    "VALUES (18, Monica, Femenino);"
   ]
  },
  {
   "cell_type": "markdown",
   "metadata": {},
   "source": [
    "<span style=\"color:red\"> **5) SELECT:** </span> Para obtener datos de una tabla."
   ]
  },
  {
   "cell_type": "code",
   "execution_count": null,
   "metadata": {},
   "outputs": [],
   "source": [
    "SELECT * FROM nombre_tabla; # selecciona todo\n",
    "\n",
    "SELECT nombre_columna FROM nombre_tabla;"
   ]
  },
  {
   "cell_type": "markdown",
   "metadata": {},
   "source": [
    "<span style=\"color:red\"> **6) SOURCE:** </span> Para ejecutar toda las sentencias SQL presentes en el script."
   ]
  },
  {
   "cell_type": "code",
   "execution_count": null,
   "metadata": {},
   "outputs": [],
   "source": [
    "SOURCE script.sql; # ruta del archivo sql"
   ]
  },
  {
   "cell_type": "markdown",
   "metadata": {},
   "source": [
    "<span style=\"color:red\"> **7) WHERE:** </span> Para seleccionar datos que cumplen con una condición. Se utiliza junto a otros operadores."
   ]
  },
  {
   "cell_type": "code",
   "execution_count": null,
   "metadata": {},
   "outputs": [],
   "source": [
    "SELECT * FROM nombre_tabla WHERE nombre_columna=valor;"
   ]
  },
  {
   "cell_type": "code",
   "execution_count": null,
   "metadata": {},
   "outputs": [],
   "source": [
    "AND-OR\n",
    "BETWEEN\n",
    "LIKE # Filtra por palabras parecidas (%)\n",
    "IN"
   ]
  },
  {
   "cell_type": "markdown",
   "metadata": {},
   "source": [
    "<span style=\"color:red\"> **8) ORDER BY:** </span> Determina en que orden se obtienen los registros. Por defecto ordena de manera ascendente. Si queremos cambiarlo hay que usar la palabra DESC."
   ]
  },
  {
   "cell_type": "code",
   "execution_count": null,
   "metadata": {},
   "outputs": [],
   "source": [
    "SELECT * FROM nombre_tabla ORDER BY nombre_columna;"
   ]
  },
  {
   "cell_type": "markdown",
   "metadata": {},
   "source": [
    "<span style=\"color:red\"> **9) LIMIT:** </span> Especifica un límite en la cantidad de registros que devolverá la consulta."
   ]
  },
  {
   "cell_type": "code",
   "execution_count": null,
   "metadata": {},
   "outputs": [],
   "source": [
    "SELECT * FROM nombre_tabla ORDER BY nombre_columna LIMIT 0,25; \n",
    "# 0 = desde la primera fila \n",
    "# 25 =cantidad de filas que mostrará"
   ]
  },
  {
   "cell_type": "markdown",
   "metadata": {},
   "source": [
    "<span style=\"color:red\"> **10) OFSET:** </span> Especifica desde que fila empieza."
   ]
  },
  {
   "cell_type": "code",
   "execution_count": null,
   "metadata": {},
   "outputs": [],
   "source": [
    "SELECT * FROM nombre_tabla ORDER BY nombre_columna LIMIT 10 OFSET 30;"
   ]
  },
  {
   "cell_type": "markdown",
   "metadata": {},
   "source": [
    "<span style=\"color:red\"> **11) DELETE:** </span> Elimina todas las filas que cumplen con la condición. Si no indico el WHERE borro toda la tabla."
   ]
  },
  {
   "cell_type": "code",
   "execution_count": null,
   "metadata": {},
   "outputs": [],
   "source": [
    "DELETE FROM nombre_tabla WHERE nombre_columna=valor;"
   ]
  },
  {
   "cell_type": "markdown",
   "metadata": {},
   "source": [
    "<span style=\"color:red\"> **12) UPDATE:** </span> Modifica un dato existente en la tabla. Si no indico el WHERE modifico toda la tabla."
   ]
  },
  {
   "cell_type": "code",
   "execution_count": null,
   "metadata": {},
   "outputs": [],
   "source": [
    "UPDATE nombre_tabla\n",
    "SET columna1=valor,\n",
    "    columna2=valor,\n",
    "WHERE condición;"
   ]
  },
  {
   "cell_type": "markdown",
   "metadata": {},
   "source": [
    "<span style=\"color:red\"> **13) DISTINCT:** </span> Para que me devuelva las opciones de datos que tengo."
   ]
  },
  {
   "cell_type": "code",
   "execution_count": null,
   "metadata": {},
   "outputs": [],
   "source": [
    "SELECT DISTINCT nombre_columna FROM nombre_tabla;"
   ]
  },
  {
   "cell_type": "markdown",
   "metadata": {},
   "source": [
    "<span style=\"color:green\"> **SQL: Operaciones simples** </span>"
   ]
  },
  {
   "cell_type": "markdown",
   "metadata": {},
   "source": [
    "<span style=\"color:green\"> **1) COUNT:** </span> Cuenta la cantidad de filas distintas que hay en la columna."
   ]
  },
  {
   "cell_type": "code",
   "execution_count": null,
   "metadata": {},
   "outputs": [],
   "source": [
    "SELECT COUNT (nombre_columna) FROM nombre_tabla;"
   ]
  },
  {
   "cell_type": "markdown",
   "metadata": {},
   "source": [
    "<span style=\"color:green\"> **2) SUM:** </span> Para que me devuelva las opciones de datos que tengo."
   ]
  },
  {
   "cell_type": "code",
   "execution_count": null,
   "metadata": {},
   "outputs": [],
   "source": [
    "SELECT SUM (nombre_columna) as alias_elegido FROM nombre_tabla;"
   ]
  },
  {
   "cell_type": "markdown",
   "metadata": {},
   "source": [
    "<span style=\"color:green\"> **3) AVG:** </span> Devuelve el valor promedio."
   ]
  },
  {
   "cell_type": "code",
   "execution_count": null,
   "metadata": {},
   "outputs": [],
   "source": [
    "SELECT AVG (nombre_columna) as alias_elegido FROM nombre_tabla;"
   ]
  },
  {
   "cell_type": "markdown",
   "metadata": {},
   "source": [
    "<span style=\"color:blue\"> **SQL: Alterar la estructura de una tabla** </span>"
   ]
  },
  {
   "cell_type": "markdown",
   "metadata": {},
   "source": [
    "<span style=\"color:blue\"> **1)** Modificar el nombre de una tabla </span>"
   ]
  },
  {
   "cell_type": "code",
   "execution_count": null,
   "metadata": {},
   "outputs": [],
   "source": [
    "ALTER TABLE nombre_tabla\n",
    "RENAME TO nuevo_nombre_tabla;"
   ]
  },
  {
   "cell_type": "markdown",
   "metadata": {},
   "source": [
    "<span style=\"color:blue\"> **2)** Agregar o eliminar una columna </span>"
   ]
  },
  {
   "cell_type": "code",
   "execution_count": null,
   "metadata": {},
   "outputs": [],
   "source": [
    "ALTER TABLE nombre_tabla\n",
    "\n",
    "ADD COLUMN nombre_columna tido_de_dato;\n",
    "DROP COLUMN nombre_columna\n",
    "ADD PRIMARY KEY (nombre_columna)"
   ]
  },
  {
   "cell_type": "markdown",
   "metadata": {},
   "source": [
    "<span style=\"color:blue\"> **3)** Modificar una columna </span>"
   ]
  },
  {
   "cell_type": "code",
   "execution_count": null,
   "metadata": {},
   "outputs": [],
   "source": [
    "ALTER TABLE nombre_tabla\n",
    "MODIFY COLUMN nombre_columna tipo_de_dato;"
   ]
  },
  {
   "cell_type": "markdown",
   "metadata": {},
   "source": [
    "<span style=\"color:blue\"> **4)** Eliminar una tabla o ua base de datos </span>"
   ]
  },
  {
   "cell_type": "code",
   "execution_count": null,
   "metadata": {},
   "outputs": [],
   "source": [
    "DROP TABLE nombre_tabla;\n",
    "\n",
    "DROP DATABASE nombre_base_de_datos;"
   ]
  },
  {
   "cell_type": "markdown",
   "metadata": {},
   "source": [
    "<span style=\"color:orange\"> **SQL: Relaciones entre tablas** </span>"
   ]
  },
  {
   "cell_type": "markdown",
   "metadata": {},
   "source": [
    "<span style=\"color:orange\"> **1)** Setear la clave foránea </span>"
   ]
  },
  {
   "cell_type": "code",
   "execution_count": null,
   "metadata": {},
   "outputs": [],
   "source": [
    "FOREIGN KEY (nombre_columna) \n",
    "REFERENCES nombre_tabla (columna_aLaQue_referencia);"
   ]
  },
  {
   "cell_type": "markdown",
   "metadata": {},
   "source": [
    "<span style=\"color:orange\"> **2)** Agregar una FK a una tabla ya existente </span>"
   ]
  },
  {
   "cell_type": "code",
   "execution_count": null,
   "metadata": {},
   "outputs": [],
   "source": [
    "ALTER TABLE nombre_tabla \n",
    "ADD FOREIGN KEY (nombre_clave) \n",
    "REFERENCES nombre_tabla (nombre_columna);"
   ]
  },
  {
   "cell_type": "markdown",
   "metadata": {},
   "source": [
    "<span style=\"color:orange\"> **3)** Unir tablas: JOIN </span>"
   ]
  },
  {
   "cell_type": "code",
   "execution_count": null,
   "metadata": {},
   "outputs": [],
   "source": [
    "SELECT * FROM tabla_1 \n",
    "JOIN tabla_2 \n",
    "ON columna_tabla_1 = tabla_2.columna;"
   ]
  },
  {
   "cell_type": "markdown",
   "metadata": {},
   "source": [
    "* Al unir las tablas con JOIN, luego le podemos agregar filtros con WHERE a las consultas."
   ]
  },
  {
   "cell_type": "code",
   "execution_count": null,
   "metadata": {},
   "outputs": [],
   "source": [
    "INNER JOIN # Devuelve solo las filas de la tabla A, que tengan si o si una correspondencia con la tabla B\n",
    "LEFT JOIN # Une toda la tabla izquierda (A) a todas las filas de la tabla derecha (B)\n",
    "RIGHT JOIN # Une toda la tabla derecha (B) a todas las filas de la tabla izquierda (A)"
   ]
  },
  {
   "cell_type": "code",
   "execution_count": null,
   "metadata": {},
   "outputs": [],
   "source": []
  }
 ],
 "metadata": {
  "kernelspec": {
   "display_name": "Python 3",
   "language": "python",
   "name": "python3"
  },
  "language_info": {
   "codemirror_mode": {
    "name": "ipython",
    "version": 3
   },
   "file_extension": ".py",
   "mimetype": "text/x-python",
   "name": "python",
   "nbconvert_exporter": "python",
   "pygments_lexer": "ipython3",
   "version": "3.6.10"
  }
 },
 "nbformat": 4,
 "nbformat_minor": 4
}
